{
 "cells": [
  {
   "cell_type": "markdown",
   "metadata": {},
   "source": [
    "# パーセプトロンの実装"
   ]
  },
  {
   "cell_type": "markdown",
   "metadata": {},
   "source": [
    "## 簡単な実装"
   ]
  },
  {
   "cell_type": "markdown",
   "metadata": {},
   "source": [
    "### 論理回路(AND)"
   ]
  },
  {
   "cell_type": "code",
   "execution_count": null,
   "metadata": {},
   "outputs": [],
   "source": [
    "def AND(x1, x2):\n",
    "    # 重み1, 重み2, 閾値\n",
    "    w1, w2, theta = 0.5, 0.5, 0.8 \n",
    "    tmp = (x1 * w1) + (x2 * w2)\n",
    "    \n",
    "    if tmp > theta:\n",
    "        print(1)\n",
    "    else:\n",
    "        print(0)\n",
    "\n",
    "AND(0, 0) # 0\n",
    "AND(1, 0) # 0\n",
    "AND(0, 1) # 0\n",
    "AND(1, 1) # 1"
   ]
  },
  {
   "cell_type": "markdown",
   "metadata": {},
   "source": [
    "### 論理回路(NAND)"
   ]
  },
  {
   "cell_type": "code",
   "execution_count": null,
   "metadata": {},
   "outputs": [],
   "source": [
    "def NAND(x1, x2):\n",
    "    # 重み1, 重み2, 閾値\n",
    "    w1, w2, theta = -0.5, -0.5, -0.8 \n",
    "    tmp = (x1 * w1) + (x2 * w2)\n",
    "    \n",
    "    if tmp > theta:\n",
    "        print(1)\n",
    "    else:\n",
    "        print(0)\n",
    "\n",
    "AND(0, 0) # 1\n",
    "AND(1, 0) # 1\n",
    "AND(0, 1) # 1\n",
    "AND(1, 1) # 0"
   ]
  },
  {
   "cell_type": "markdown",
   "metadata": {},
   "source": [
    "### 論理回路(OR)"
   ]
  },
  {
   "cell_type": "code",
   "execution_count": null,
   "metadata": {},
   "outputs": [],
   "source": [
    "def OR(x1, x2):\n",
    "    # 重み1, 重み2, 閾値\n",
    "    w1, w2, theta = 0.5, 0.5, 0 \n",
    "    tmp = (x1 * 0.5) + (x2 * w2)\n",
    "    \n",
    "    if tmp > theta:\n",
    "        print(1)\n",
    "    else:\n",
    "        print(0)\n",
    "\n",
    "AND(0, 0) # 0\n",
    "AND(1, 0) # 1\n",
    "AND(0, 1) # 1\n",
    "AND(1, 1) # 1"
   ]
  },
  {
   "cell_type": "markdown",
   "metadata": {},
   "source": [
    "## 重みとバイアスの導入"
   ]
  },
  {
   "cell_type": "code",
   "execution_count": null,
   "metadata": {},
   "outputs": [],
   "source": [
    "import numpy as np\n",
    "\n",
    "x = np.array([0, 1])\n",
    "w = np.array([0.5, 0.5])\n",
    "b = -0.7\n",
    "\n",
    "print(w * x)\n",
    "print(np.sum(w * x))\n",
    "print(np.sum(w * x) + b) # 浮動小数点数による誤差あり\n"
   ]
  },
  {
   "cell_type": "markdown",
   "metadata": {},
   "source": [
    "## 重みとバイアスによる実装"
   ]
  },
  {
   "cell_type": "markdown",
   "metadata": {},
   "source": [
    "**重み**  \n",
    "パラメータの重要度  \n",
    "\n",
    "**バイアス**  \n",
    "出力信号が１を出力する度合い"
   ]
  },
  {
   "cell_type": "markdown",
   "metadata": {},
   "source": [
    "### 論理回路(AND)"
   ]
  },
  {
   "cell_type": "code",
   "execution_count": null,
   "metadata": {},
   "outputs": [],
   "source": [
    "def AND(x1, x2):\n",
    "    x = np.array([x1, x2])\n",
    "    w = np.array([0.5, 0.5])\n",
    "    b = -0.7\n",
    "    \n",
    "    tmp = np.sum(x * w) + b\n",
    "    \n",
    "    if tmp > 0:\n",
    "        print(1)\n",
    "    else:\n",
    "        print(0)\n",
    "\n",
    "AND(0, 0) # 0\n",
    "AND(1, 0) # 0\n",
    "AND(0, 1) # 0\n",
    "AND(1, 1) # 1"
   ]
  },
  {
   "cell_type": "markdown",
   "metadata": {},
   "source": [
    "### 論理回路(NAND)"
   ]
  },
  {
   "cell_type": "code",
   "execution_count": null,
   "metadata": {},
   "outputs": [],
   "source": [
    "def NAND(x1, x2):\n",
    "    x = np.array([x1, x2])\n",
    "    w = np.array([-0.5, -0.5])\n",
    "    b = 0.7\n",
    "    \n",
    "    tmp = np.sum(x * w) + b\n",
    "    \n",
    "    if tmp > 0:\n",
    "        print(1)\n",
    "    else:\n",
    "        print(0)\n",
    "\n",
    "AND(0, 0) # 1\n",
    "AND(1, 0) # 1\n",
    "AND(0, 1) # 1\n",
    "AND(1, 1) # 0"
   ]
  },
  {
   "cell_type": "markdown",
   "metadata": {},
   "source": [
    "### 論理回路(OR)"
   ]
  },
  {
   "cell_type": "code",
   "execution_count": null,
   "metadata": {},
   "outputs": [],
   "source": [
    "def OR(x1, x2):\n",
    "    x = np.array([x1, x2])\n",
    "    w = np.array([0.5, 0.5])\n",
    "    b = 0\n",
    "    \n",
    "    tmp = np.sum(x * w) + b\n",
    "    \n",
    "    if tmp > 0:\n",
    "        print(1)\n",
    "    else:\n",
    "        print(0)\n",
    "\n",
    "AND(0, 0) # 0\n",
    "AND(1, 0) # 0\n",
    "AND(0, 1) # 0\n",
    "AND(1, 1) # 1"
   ]
  },
  {
   "cell_type": "markdown",
   "metadata": {},
   "source": [
    "## パーセプトロンの限界"
   ]
  },
  {
   "cell_type": "markdown",
   "metadata": {},
   "source": [
    "* 単一のパーセプトロンでは非線形な領域を表現できない\n",
    "* 層を重ねることで非線形な領域を表現できる\n",
    "\n",
    "※ 非線形な領域(XOR)"
   ]
  },
  {
   "cell_type": "markdown",
   "metadata": {},
   "source": [
    "## 多層パーセプトロン\n",
    "**層を重ねることでより柔軟な作業が表現できる**"
   ]
  },
  {
   "cell_type": "markdown",
   "metadata": {},
   "source": [
    "### 論理回路(XOR)"
   ]
  },
  {
   "cell_type": "code",
   "execution_count": 26,
   "metadata": {},
   "outputs": [
    {
     "name": "stdout",
     "output_type": "stream",
     "text": [
      "0\n",
      "1\n",
      "1\n",
      "0\n"
     ]
    }
   ],
   "source": [
    "def AND(x1, x2):\n",
    "    x = np.array([x1, x2])\n",
    "    w = np.array([0.5, 0.5])\n",
    "    b = -0.7\n",
    "    \n",
    "    tmp = np.sum(x * w) + b\n",
    "    \n",
    "    if tmp > 0:\n",
    "        return 1\n",
    "    else:\n",
    "        return 0\n",
    "\n",
    "\n",
    "def NAND(x1, x2):\n",
    "    x = np.array([x1, x2])\n",
    "    w = np.array([-0.5, -0.5])\n",
    "    b = 0.7\n",
    "    \n",
    "    tmp = np.sum(x * w) + b\n",
    "    \n",
    "    if tmp > 0:\n",
    "        return 1\n",
    "    else:\n",
    "        return 0\n",
    "\n",
    "\n",
    "def OR(x1, x2):\n",
    "    x = np.array([x1, x2])\n",
    "    w = np.array([0.5, 0.5])\n",
    "    b = 0\n",
    "    \n",
    "    tmp = np.sum(x * w) + b\n",
    "    \n",
    "    if tmp > 0:\n",
    "        return 1\n",
    "    else:\n",
    "        return 0\n",
    "\n",
    "def XOR(x1, x2):\n",
    "    s1 = OR(x1, x2)\n",
    "    s2 = NAND(x1, x2)\n",
    "    ans = AND(s1, s2)\n",
    "    \n",
    "    return ans\n",
    "\n",
    "print(XOR(0, 0))\n",
    "print(XOR(1, 0))\n",
    "print(XOR(0, 1))\n",
    "print(XOR(1, 1))"
   ]
  }
 ],
 "metadata": {
  "kernelspec": {
   "display_name": "Python 3",
   "language": "python",
   "name": "python3"
  },
  "language_info": {
   "codemirror_mode": {
    "name": "ipython",
    "version": 3
   },
   "file_extension": ".py",
   "mimetype": "text/x-python",
   "name": "python",
   "nbconvert_exporter": "python",
   "pygments_lexer": "ipython3",
   "version": "3.10.11"
  }
 },
 "nbformat": 4,
 "nbformat_minor": 2
}
